{
  "cells": [
    {
      "cell_type": "markdown",
      "metadata": {
        "id": "B3532UUCmdp4"
      },
      "source": [
        "# Welcom to HiPIMS!"
      ]
    },
    {
      "cell_type": "markdown",
      "metadata": {
        "id": "69o2Z5a1mdp5"
      },
      "source": [
        "\n",
        "This document gives you a guidance and embeds the code to run the hipims code for case study.\n",
        "You can run this tutorial in a couple of ways:\n",
        "\n",
        "**In the cloud:** This is an easy way to get started! Use link to opens an integrated notebook in Google Colab.\n",
        "\n",
        "**Locally:** This option requires you to setup HiPIMS first on your local machine. Download the notebook or copy the code into your favorite IDE. We recommand you using CUDA 12.1 and python 3.10."
      ]
    },
    {
      "cell_type": "markdown",
      "metadata": {
        "id": "kaa9HUUQmdp5"
      },
      "source": [
        "## About\n",
        "HiPIMS names for High-Performance Integrated hydrodynamic Modelling System. It uses state-of-art numerical schemes (Godunov-type finite volume) to solve the 2D shallow water equations for flood simulations. To support high-resolution flood simulations, HiPIMS is implemented on multiple GPUs (Graphics Processing Unit) using CUDA/C++ languages to achieve high-performance computing.\n",
        "\n",
        "**Package Author:** Xue Tong, Jiaheng Zhao\n",
        "\n",
        "**Guidance and leadership:** Prof. Qiuhua Liang\n",
        "\n",
        "**Affiliation:** Loughborough University\n"
      ]
    },
    {
      "cell_type": "markdown",
      "metadata": {
        "id": "Qg6WmBxLmdp5"
      },
      "source": [
        "## 1. Install and import the package"
      ]
    },
    {
      "cell_type": "markdown",
      "metadata": {
        "id": "BopkqV79mdp5"
      },
      "source": [
        "### 1.1 Recommended applications:\n",
        "- [**Visual Studio Code**](https://code.visualstudio.com/download) as Python IDE\n",
        "\n",
        "- [**Anaconda to manage**](https://docs.anaconda.com/anaconda/install/) Python environment\n",
        "\n",
        "### 1.2 Create a environment for HiPIMS\n",
        "Create a new Terminal in VS Code and create new environment via:"
      ]
    },
    {
      "cell_type": "code",
      "execution_count": null,
      "metadata": {
        "vscode": {
          "languageId": "powershell"
        },
        "id": "b0rrpJBpmdp5"
      },
      "outputs": [],
      "source": [
        "conda update -n base -c defaults conda\n",
        "conda create --name hipims/your_env_name python=3.10\n",
        "conda activate hipims/your_env_name"
      ]
    },
    {
      "cell_type": "markdown",
      "metadata": {
        "id": "fPZ3KDIxmdp6"
      },
      "source": [
        "### 1.3 Check requirements\n",
        "- NVIDIA driver requirements: CUDA > 12.1\n",
        "    - ```nvidia-smi ```\n",
        "    - If too old, update via GeForce Experience Or [Official website](https://www.nvidia.com/en-us/drivers/).\n",
        "- Python requirements: 3.10\n",
        "    - ```python --version ```\n",
        "    - if not python 3.10: Ctrl + shift + P, select python interpreter, If still cannot find, reinstall Python Extension in VS Code.\n",
        "\n",
        "### 1.4 Install HiPIMS and nessary packages in Terminal:"
      ]
    },
    {
      "cell_type": "code",
      "execution_count": null,
      "metadata": {
        "vscode": {
          "languageId": "powershell"
        },
        "id": "VkUgR7xjmdp6"
      },
      "outputs": [],
      "source": [
        "conda install nvidia/label/cuda-12.1.0::cuda\n",
        "conda install pytorch==2.5.0 torchvision==0.20.0 torchaudio==2.5.0 pytorch-cuda=12.1 -c pytorch -c nvidia\n",
        "pip install --upgrade pip"
      ]
    },
    {
      "cell_type": "code",
      "source": [
        "! pip install hipims"
      ],
      "metadata": {
        "id": "A76bj-DUnL9V"
      },
      "execution_count": null,
      "outputs": []
    },
    {
      "cell_type": "markdown",
      "metadata": {
        "id": "X_P-we4Smdp6"
      },
      "source": [
        "if ```pip install hipims``` not work, try ```python -m pip install hipims``` instead."
      ]
    },
    {
      "cell_type": "markdown",
      "metadata": {
        "id": "q9XwJVlomdp6"
      },
      "source": [
        "### 1.5 Test HiPIMS"
      ]
    },
    {
      "cell_type": "code",
      "execution_count": null,
      "metadata": {
        "id": "GkzQxVujmdp6"
      },
      "outputs": [],
      "source": [
        "from hipims.InputHipims import InputHipims\n",
        "from hipims import flood\n",
        "from hipims import visualization as visual"
      ]
    },
    {
      "cell_type": "markdown",
      "metadata": {
        "id": "wb8HlhUgmdp6"
      },
      "source": [
        "## 2. Data Formats and Types\n",
        "To run the flood model, you need to prepare specific data types. Below are the minimum required data and additional **data types** that can enhance your simulations.\n",
        "\n",
        "1. **Spatial Distribution Data (SDD)**:  \n",
        "   These data describe spatial patterns and variations across different locations. The supported formats include:  \n",
        "   - **Single Value**: Represents a uniform value across the entire spatial domain, used when the phenomenon is consistent across all locations.\n",
        "   - **`np.array` (NumPy Array)**: Allows users to input customised values as an array to represent spatial data.  \n",
        "     *Note: The shape of the `np.array` must match the shape of the DEM to maintain spatial consistency.*\n",
        "   - **`tif` (GeoTIFF) File**: A raster data format that includes geographic coordinate information, allowing for detailed spatial modelling.  \n",
        "     *Note: The grid size of the GeoTIFF file must match that of the DEM.*\n",
        "\n",
        "2. **Time Series Data (TSD)**:  \n",
        "   These data represent temporal dynamics and support the following formats:  \n",
        "   - **Single Value**: Represents a uniform value across the entire time period, implying no variation over time.\n",
        "   - **`np.array` (NumPy Array)**: Allows users to input customised time series data. The first column represents the time series (unit: seconds), and the subsequent columns contain the corresponding values.\n",
        "   - **File**: Time series data can be stored in a file, such as a `.txt` or `Excel file`.  \n",
        "     *Note: If the data are on a specific sheet in an Excel file, use the format `['filename', 'sheetname']`. Otherwise, use `'filename'`.*"
      ]
    },
    {
      "cell_type": "markdown",
      "metadata": {
        "id": "rHi_TwdWmdp6"
      },
      "source": [
        "## 3. Running HiPIMS for Catchment Case Study\n",
        "3.1 & 3.9 are necessary.\n",
        "\n",
        "3.2-3.8 are optional, call only differ from default.\n",
        "\n",
        "*Note: SDD refers to Spatial Distribution Data; TSD refers to Time Series Data.*\n"
      ]
    },
    {
      "cell_type": "markdown",
      "metadata": {
        "id": "_O-2zpPtmdp6"
      },
      "source": [
        "### 3.1 Quickstart\n",
        "\n",
        "To define the model case, use the following:\n",
        "\n",
        "- **Data Requirements**:\n",
        "  - `DEM.tif` : Digital Elevation Model (DEM), providing terrain elevation data necessary for calculating water flow paths.\n",
        "\n",
        "- **Function**: `InputHipims`\n",
        "\n",
        "  **Keyword Arguments**:\n",
        "\n",
        "<div align=\"center\">\n",
        "\n",
        "| Argument           | Type    | Description                                                               |\n",
        "|--------------------|---------|---------------------------------------------------------------------------|\n",
        "| `case_folder`      | String  | Path to the folder containing the case files.                              |\n",
        "| `dem_path`         | String  | Path to the Digital Elevation Model (DEM) file, providing terrain data.    |\n",
        "| `output_folder`    | String  | Path to the folder where the simulation output files will be saved.        |\n",
        "| `rainfall_source`  | TSD     | Source of the rainfall data.                                               |\n",
        "\n",
        "</div>\n"
      ]
    },
    {
      "cell_type": "code",
      "execution_count": null,
      "metadata": {
        "id": "1J0kGvsdmdp6"
      },
      "outputs": [],
      "source": [
        "from hipims import get_sample\n",
        "case_folder, dem_name, output_folder, rainfall_source = get_sample.get_sample_data()\n",
        "print(case_folder)\n",
        "print(dem_name)"
      ]
    },
    {
      "cell_type": "code",
      "execution_count": null,
      "metadata": {
        "id": "jgr8p6vomdp6"
      },
      "outputs": [],
      "source": [
        "case_folder = r\"C:\\Users\\cvxt2\\OneDrive - Loughborough University\\HiPIMS_2024\\sample\"\n",
        "dem_name = r\"depth.tif\"\n",
        "output_folder = r\"C:\\Users\\cvxt2\\OneDrive - Loughborough University\\HiPIMS_2024\\sample\\output\"\n",
        "rainfall_source = r\"C:\\Users\\cvxt2\\OneDrive - Loughborough University\\HiPIMS_2024\\sample\\input\\rainfall_source.xlsx\""
      ]
    },
    {
      "cell_type": "code",
      "execution_count": null,
      "metadata": {
        "id": "ZBgaudjbmdp6"
      },
      "outputs": [],
      "source": [
        "# minimal requirements\n",
        "inputs = InputHipims(case_folder = case_folder,\n",
        "                     dem_path = dem_name,\n",
        "                     output_folder= output_folder,\n",
        "                     rainfall_source = rainfall_source)"
      ]
    },
    {
      "cell_type": "markdown",
      "metadata": {
        "id": "3gkSocHSmdp6"
      },
      "source": [
        "Want to see your simulation area? Run:"
      ]
    },
    {
      "cell_type": "code",
      "execution_count": null,
      "metadata": {
        "id": "DsR8DLGVmdp6"
      },
      "outputs": [],
      "source": [
        "import os\n",
        "input_folder = os.path.join(case_folder, 'input/')\n",
        "dem_path = os.path.join(input_folder, dem_name)\n",
        "outline_path = os.path.join(input_folder, 'outline.shp')\n",
        "visual.domain(file_path = dem_path, outline=outline_path)"
      ]
    },
    {
      "cell_type": "markdown",
      "metadata": {
        "id": "tbWjJw-Qmdp6"
      },
      "source": [
        "### 3.2. Set Up Model Parameters\n",
        "\n",
        "Define the model parameters to control the simulation's configuration.\n",
        "\n",
        "- **Function**: `set_model_parameters`\n",
        "\n",
        "  **Keyword Arguments**:\n",
        "\n",
        "<div align=\"center\">\n",
        "\n",
        "| Argument              | Type     | Default  | Description                                                            |\n",
        "|-----------------------|----------|----------|------------------------------------------------------------------------|\n",
        "| `num_GPU`             | Integer  | `1`      | Number of GPU devices to use.                                          |\n",
        "| `start_time`          | Numeric  | `0`      | Simulation start time in seconds.                                      |\n",
        "| `GPU_device_ID`       | Integer  | `0`      | ID of the GPU device.                                                  |\n",
        "| `end_time`            | Numeric  | `3600`   | Total simulation time in seconds.                                      |\n",
        "| `output_interval`     | Numeric  | `600`    | Specifies how frequently (in seconds) the output files are saved.      |\n",
        "| `second_order`        | Boolean  | `False`  | Specifies whether to use a second-order solver.                        |\n",
        "| `projected_coordinate`| Boolean  | `False`  | Indicates whether the geographic coordinate is in a projected coordinate system.                        |\n",
        "\n",
        "</div>\n"
      ]
    },
    {
      "cell_type": "code",
      "execution_count": null,
      "metadata": {
        "tags": [],
        "id": "tZDq15uMmdp6"
      },
      "outputs": [],
      "source": [
        "inputs.set_model_parameters(output_interval=600, end_time=600)"
      ]
    },
    {
      "cell_type": "markdown",
      "metadata": {
        "id": "6gij16ilmdp7"
      },
      "source": [
        "### 3.3 Set Initial Condition\n",
        "\n",
        "Define the initial conditions for the simulation. By default, the simulation area is considered completely dry.\n",
        "- **Function**: `set_initial_condition`\n",
        "\n",
        "  **Keyword Arguments:**\n",
        "\n",
        "<div align=\"center\">\n",
        "\n",
        "| Argument     | Type  | Unit       | Default | Description                                |\n",
        "|--------------|-------|------------|---------|--------------------------------------------|\n",
        "| `h0`         | SPD   | Metres (m) | `0`     | Initial water depth.                       |\n",
        "| `hU0x`       | SPD   | Metres (m) | `0`     | Initial unit discharge in the x-direction. |\n",
        "| `hU0`        | SPD   | Metres (m) | `0`     | Initial unit discharge in the y-direction. |\n",
        "\n",
        "</div>\n",
        "\n"
      ]
    },
    {
      "cell_type": "code",
      "execution_count": null,
      "metadata": {
        "id": "8NOCZcsHmdp7"
      },
      "outputs": [],
      "source": [
        "inputs.set_initial_condition(h0='depth.tif',\n",
        "                              hU0x='hux.tif',\n",
        "                              hU0y='huy.tif')"
      ]
    },
    {
      "cell_type": "markdown",
      "metadata": {
        "id": "BrL4PPlkmdp7"
      },
      "source": [
        "Want to see initial condition? Run:"
      ]
    },
    {
      "cell_type": "code",
      "execution_count": null,
      "metadata": {
        "id": "u7sqAH6jmdp7"
      },
      "outputs": [],
      "source": [
        "# show initial water depth\n",
        "depth_path = os.path.join(input_folder, 'depth.tif')\n",
        "visual.inundation_depth(file_path= depth_path,\n",
        "                        title = 'Initial water depth',\n",
        "                        basemap = dem_path,\n",
        "                        outline = outline_path)\n",
        "\n",
        "# show initial discharge in x-direction\n",
        "hux_path = os.path.join(input_folder, 'hux.tif')\n",
        "visual.discharge(file_path=hux_path,\n",
        "                 title = 'Initial x-direction flow discharge',\n",
        "                 basemap = dem_path,\n",
        "                 outline = outline_path)\n",
        "\n",
        "# show initial discharge in y-direction\n",
        "huy_path = os.path.join(input_folder, 'huy.tif')\n",
        "visual.discharge(file_path=huy_path,\n",
        "                 title = 'Initial y-direction flow discharge',\n",
        "                 basemap = dem_path,\n",
        "                 outline = outline_path)"
      ]
    },
    {
      "cell_type": "markdown",
      "metadata": {
        "id": "IyR-Ixn8mdp7"
      },
      "source": [
        "### 3.4. Set Rainfall\n",
        "Define the rainfall data for the simulation. By default, there is no rainfall.\n",
        "\n",
        "- **Function**: `set_rainfall`\n",
        "\n",
        "  **Keyword Arguments:**\n",
        "\n",
        "<div align=\"center\">\n",
        "\n",
        "| Argument      | Type                             | Unit                     | Default | Description                                                                                           |\n",
        "|---------------|----------------------------------|--------------------------|---------|-------------------------------------------------------------------------------------------------------|\n",
        "| `rain_mask`   | SDD   | N/A     | `0`     | A mask that defines the rainfall station indices. indices.                                                     |\n",
        "| `rain_source` | TSD   | mm/hr   | `0`     | The source of rainfall data. The first column represents time, and the subsequent columns correspond to the indices in `rain_mask`, starting from 0. |\n",
        "\n",
        "</div>\n"
      ]
    },
    {
      "cell_type": "code",
      "execution_count": null,
      "metadata": {
        "id": "BfgJ-3-gmdp7"
      },
      "outputs": [],
      "source": [
        "inputs.set_rainfall(rain_mask='rainMask.tif',rain_source='rainfall_source.txt')"
      ]
    },
    {
      "cell_type": "markdown",
      "metadata": {
        "id": "b-BHXpV3mdp7"
      },
      "source": [
        "Want to see the rainfall mask and time series? Run:"
      ]
    },
    {
      "cell_type": "code",
      "execution_count": null,
      "metadata": {
        "id": "abdQELhomdp7"
      },
      "outputs": [],
      "source": [
        "# show the rainfall mask\n",
        "rain_path = os.path.join(input_folder, 'rainMask.tif')\n",
        "visual.rain_mask(file_path = rain_path,\n",
        "                 outline = outline_path)\n",
        "\n",
        "# show the raifnall time series\n",
        "from datetime import datetime\n",
        "rain_source_path = os.path.join(input_folder, 'rainfall_source.txt')\n",
        "start_date = datetime(2015,12,4,17,0,0)\n",
        "visual.rainfall_time_series(file_path = rain_source_path,\n",
        "                            start_date = start_date)"
      ]
    },
    {
      "cell_type": "markdown",
      "metadata": {
        "id": "83rJOouemdp7"
      },
      "source": [
        "### 3.5. Set Boundary Condition\n",
        "\n",
        "Define the Input/Output (IO) boundaries at the edges of the model domain. These boundaries typically represent river inflow from upstream or river water depth/tidal levels downstream.\n",
        "\n",
        "- **Function**: `set_boundary_condition`\n",
        "\n",
        "  **Keyword Arguments:**\n",
        "\n",
        "| Argument           | Type                   | Description                                                                                                    |\n",
        "|--------------------|------------------------|----------------------------------------------------------------------------------------------------------------|\n",
        "| `bound_list`       | List of dictionaries   | A list where each dictionary represents a boundary condition for the model.                                    |\n",
        "| - `extent`         | Array                  | Specifies the boundary's spatial extent using minimum and maximum X and Y coordinates in the format `[x_min, x_max, y_min, y_max]`. |\n",
        "| - `type`           | String                 | Defines the type of boundary condition (see **Boundary Condition Types** below for details).                   |\n",
        "| - `source`         | TSD / None             | Specifies the source of data for the boundary condition. (see **Boundary Condition Types** below for details). |\n",
        "| `outline_boundary` | String                 | Specifies the condition applied to the model's outer boundary.                                                 |\n",
        "\n",
        "- **Boundary Condition Types**\n",
        "\n",
        "  The following types of boundary conditions are available:\n",
        "\n",
        "<div align=\"center\">\n",
        "\n",
        "| Boundary Type   | Description                                                                 | Source | Unit                        |\n",
        "|-----------------|-----------------------------------------------------------------------------|--------------------------------------|------------------------------|\n",
        "| `RIGID`         | A solid, non-movable boundary.                                               | None | N/A                          |\n",
        "| `WALL_SLIP`     | Allows slip conditions along a wall boundary.                                | None | N/A                          |\n",
        "| `OPEN`          | An open boundary where flow can freely enter or exit.                        | None  | N/A                          |\n",
        "| `H_GIVEN`       | A boundary with a specified water depth.                                     | TSD          | m                |\n",
        "| `Q_GIVEN`       | A boundary with a specified flow discharge.                                  | TSD| m³/s|\n",
        "| `WL_GIVEN`      | A boundary with a specified water level.                                     | TSD| m               |\n",
        "| `FALL`          | A specific condition, such as a falling water level.                         | None           | N/A |\n",
        "\n",
        "</div>"
      ]
    },
    {
      "cell_type": "code",
      "execution_count": null,
      "metadata": {
        "tags": [],
        "id": "zm43maXCmdp7"
      },
      "outputs": [],
      "source": [
        "boundary1 = {'extent': [339490.05, 339516.74, 552724.15, 552731.72], #[left, right, bottom, top]\n",
        "             'type': 'WL_GIVEN',\n",
        "             'source': 23.8}\n",
        "boundary2 = {'extent': [343488.09, 343505.57, 551295.62, 551320.47],\n",
        "             'type': 'Q_GIVEN',\n",
        "             'source': ['Q_source.xlsx', 'Petteril']}\n",
        "boundary3 = {'extent': [342871.50, 342931.40, 557885.14, 557918.513],\n",
        "             'type': 'Q_GIVEN',\n",
        "             'source': ['Q_source.xlsx', 'Eden']}\n",
        "boundary4 = {'extent':  [337093.251, 337163.418, 557213.469, 557293.638],\n",
        "             'type': 'OPEN',\n",
        "             'source': None}\n",
        "\n",
        "bound_list = [boundary1, boundary2, boundary3, boundary4 ]\n",
        "\n",
        "inputs.set_boundary_condition(bound_list = bound_list,\n",
        "                              outline_boundary = 'FALL')"
      ]
    },
    {
      "cell_type": "markdown",
      "metadata": {
        "id": "_GTIFgRvmdp7"
      },
      "source": [
        "Show your boundary? Run:"
      ]
    },
    {
      "cell_type": "code",
      "execution_count": null,
      "metadata": {
        "id": "Lw_gCBcfmdp7"
      },
      "outputs": [],
      "source": [
        "visual.domain(file_path = dem_path, bound_list= bound_list, outline=outline_path)"
      ]
    },
    {
      "cell_type": "markdown",
      "metadata": {
        "id": "WBtvL5Hxmdp7"
      },
      "source": [
        "### 3.6. Land Cover and Related Processes\n",
        "Land cover types, such as forests, urban areas, or fields, affect the speed and volume of surface water flow by influencing processes like surface friction, infiltration, and sewer drainage."
      ]
    },
    {
      "cell_type": "markdown",
      "metadata": {
        "id": "5pbBkVZxmdp7"
      },
      "source": [
        "#### 3.6.1 Defining Land Cover\n",
        "Define the land cover data for the simulation to represent different types of land use within the case domain.\n",
        "\n",
        "- **Function**: `set_landuse`\n",
        "\n",
        "    **Keyword Argument:**\n",
        "\n",
        "<div align=\"center\">\n",
        "\n",
        "| Argument        | Type                             | Default | Description                                                |\n",
        "|-----------------|----------------------------------|---------|------------------------------------------------------------|\n",
        "| `landuse_mask`  | SPD (Spatial Distribution Data)  | `0`     | Indexes the land use distribution within the case domain.   |\n",
        "\n",
        "</div>"
      ]
    },
    {
      "cell_type": "code",
      "execution_count": null,
      "metadata": {
        "id": "h0e2INfamdp7"
      },
      "outputs": [],
      "source": [
        "inputs.set_landuse(landuse_mask='Landcover.tif')"
      ]
    },
    {
      "cell_type": "markdown",
      "metadata": {
        "id": "FCg9IOGlmdp7"
      },
      "source": [
        "To show the Landuse data, run:"
      ]
    },
    {
      "cell_type": "code",
      "execution_count": null,
      "metadata": {
        "id": "3g9pX34umdp7"
      },
      "outputs": [],
      "source": [
        "land_path = os.path.join(input_folder, 'Landcover.tif')\n",
        "visual.land_mask(file_path = land_path,\n",
        "                 categories={1:'water', 2:'Land'},\n",
        "                 title = 'Landuse mask',\n",
        "                 outline = outline_path)"
      ]
    },
    {
      "cell_type": "markdown",
      "metadata": {
        "id": "GNZRF8GImdp7"
      },
      "source": [
        "#### 3.6.2 Common Data Formats for Land Cover-Based Parameters\n",
        "All land cover-based parameters share the following data formats:\n",
        "- **Single Value**:  A numeric value applied for all land use categories.\n",
        "- **`np.array` (NumPy Array)**: An array of numeric values corresponding to the land use categories defined in the `landuse_mask`. The values should be ordered from the smallest to the largest land use indices.\n",
        "- **List**:  A list format that allows for custom settings:\n",
        "   - **`'default_value'`**: The default parameter value for all land use categories unless specified otherwise.\n",
        "   - **`'special_land_type_value'`**: The index of a specific land use category requiring a different parameter value.\n",
        "   - **`'special_param_value'`**: The value corresponding to the `special_land_type_value` for the specified parameter."
      ]
    },
    {
      "cell_type": "markdown",
      "metadata": {
        "id": "Y_2z1BwAmdp7"
      },
      "source": [
        "#### 3.6.3 Friction\n",
        "Friction in hydrodynamic modelling refers to the resistance water encounters as it flows over different surfaces, such as riverbeds, floodplains, or urban landscapes. This resistance is primarily influenced by the roughness of the surface, which slows down the water and dissipates its energy.\n",
        "\n",
        "- **Function**: `set_manning`\n",
        "\n",
        "    **Keyword Argument:**\n",
        "\n",
        "<div align=\"center\">\n",
        "\n",
        "| Argument        | Type                             | Default | Description                                                |\n",
        "|-----------------|----------------------------------|---------|------------------------------------------------------------|\n",
        "| `manning`  | Land Cover-Based Parameters  | `0`     | The roughness coefficient. Higher values represent rougher surfaces, slowing down water flow.  |\n",
        "\n",
        "</div>\n"
      ]
    },
    {
      "cell_type": "code",
      "execution_count": null,
      "metadata": {
        "id": "pKF8RQ21mdp8"
      },
      "outputs": [],
      "source": [
        "inputs.set_manning(manning={'default_value': 0.035,\n",
        "                            'special_land_type_value': [1],\n",
        "                            'special_param_value': [0.03]})"
      ]
    },
    {
      "cell_type": "markdown",
      "metadata": {
        "id": "kHIV_Dxsmdp8"
      },
      "source": [
        "#### 3.6.4 Infiltration\n",
        "\n",
        "Infiltration is the process by which water on the ground surface enters the soil. In HiPIMS, the [**Green-Ampt model**](https://en.wikipedia.org/wiki/Green%E2%80%93Ampt_model) is used to calculate the amount of water that infiltrates into the soil over time.\n",
        "\n",
        "There are two methods for setting up infiltration.\n",
        "\n",
        "***!!! Run one of the following methods depending on your own case:***\n"
      ]
    },
    {
      "cell_type": "markdown",
      "metadata": {
        "id": "ryr1o2Anmdp8"
      },
      "source": [
        "\n",
        "##### Method 1: Manual Parameter Setting\n",
        "Directly assign specific values for each parameter based on different land cover types.\n",
        "\n",
        "- **Function**: `set_infiltration`\n",
        "\n",
        "**Keyword Arguments:**\n",
        "\n",
        "<div align=\"center\">\n",
        "\n",
        "| Argument                 | Type                         | Default | Description                                                                 |\n",
        "|--------------------------|------------------------------|---------|-----------------------------------------------------------------------------|\n",
        "| `cumulative_depth`       | Land Cover-Based Parameters  | `0`     | Cumulative infiltration depth since the start of the simulation (m).         |\n",
        "| `hydraulic_conductivity` | Land Cover-Based Parameters  | `0`     | The rate at which water moves through the soil, depending on soil properties (m/s). |\n",
        "| `capillary_head`         | Land Cover-Based Parameters  | `0`     | Soil suction at the wetting front, affecting water infiltration (m).         |\n",
        "| `water_content_diff`     | Land Cover-Based Parameters  | `0`     | Difference in water content between saturated and initial conditions (m³/m³). |\n",
        "\n",
        "</div>"
      ]
    },
    {
      "cell_type": "code",
      "execution_count": null,
      "metadata": {
        "id": "s_c69xQDmdp8"
      },
      "outputs": [],
      "source": [
        "inputs.set_infiltration(cumulative_depth=0,\n",
        "                        hydraulic_conductivity=0,\n",
        "                        capillary_head=0,\n",
        "                        water_content_diff=0)"
      ]
    },
    {
      "cell_type": "markdown",
      "metadata": {
        "id": "lKSnPeFfmdp8"
      },
      "source": [
        "\n",
        "##### Method 2: Automatic Parameter Setting by Soil Type\n",
        "Automatically determine parameter values based on the soil type associated with each land cover type.\n",
        "\n",
        "Soil types are based on the USDA Soil Classification: Clay, Silty Clay, Sandy Clay, Clay Loam, Silty Clay Loam, Sandy Clay Loam, Silt Loam, Loam, Sandy Loam, Loamy Sand, Sand, Impervious Surface, Water.\n",
        "\n",
        "- **Function**: `set_soil_type`\n",
        "\n",
        "    **Keyword Arguments:**\n",
        "\n",
        "<div align=\"center\">\n",
        "\n",
        "| Argument | Format | Description |\n",
        "|----------|--------|-------------|\n",
        "| `soil_type`   | List | Specifies the soil type settings for different land use categories.     |\n",
        "| - `default_soil_type` | String | Default soil type for all land use categories unless specified otherwise. |\n",
        "| - `special_land_type_value` | list of values / None | Index of a specific land use category requiring a different soil type.|\n",
        "| - `special_soil_type` | list of string / None | The soil type corresponding to the `special_land_type_value`.|\n",
        "</div>\n",
        "\n"
      ]
    },
    {
      "cell_type": "code",
      "execution_count": null,
      "metadata": {
        "id": "s04ct3r-mdp8"
      },
      "outputs": [],
      "source": [
        "inputs.set_soil_type(soil_type={'default_soil_type': 'Impervious Surface',\n",
        "                                'special_land_type_value': [1],\n",
        "                                'special_soil_type': ['Water']})"
      ]
    },
    {
      "cell_type": "markdown",
      "metadata": {
        "id": "H-4RWDRYmdp8"
      },
      "source": [
        "#### 3.6.5 Sewer System\n",
        "By defining areas in the model that drain water into the sewer system, users can simulate how water is removed from specific land cover types, such as roads, at a controlled rate.\n",
        "\n",
        "- **Function**: `set_sewer_sink`\n",
        "\n",
        "    **Keyword Arguments:**\n",
        "\n",
        "<div align=\"center\">\n",
        "\n",
        "| Argument     | Type                        | Default | Description                                                               |\n",
        "|--------------|-----------------------------|---------|---------------------------------------------------------------------------|\n",
        "| `sewer_sink` | Land Cover-Based Parameters | `0`     | Specifies the rate at which water is drained into the sewer system (m/s). |\n",
        "\n",
        "</div>\n"
      ]
    },
    {
      "cell_type": "code",
      "execution_count": null,
      "metadata": {
        "id": "QCCIBUgHmdp8"
      },
      "outputs": [],
      "source": [
        "inputs.set_sewer_sink(sewer_rate=0)"
      ]
    },
    {
      "cell_type": "markdown",
      "metadata": {
        "id": "nwyTu3jdmdp8"
      },
      "source": [
        "### 3.7 Set river gauges\n",
        "Set gauges with the river channel to monitor timeseries of water level and velocity"
      ]
    },
    {
      "cell_type": "code",
      "execution_count": null,
      "metadata": {
        "tags": [],
        "id": "FuresQ3nmdp8"
      },
      "outputs": [],
      "source": [
        "import numpy as np\n",
        "gauge_coords = np.array([[340194, 556641]])\n",
        "inputs.set_gauges_position(gauge_coords)"
      ]
    },
    {
      "cell_type": "markdown",
      "metadata": {
        "id": "oqjR-Qzwmdp8"
      },
      "source": [
        "### 3.8. Check your data before running"
      ]
    },
    {
      "cell_type": "code",
      "execution_count": null,
      "metadata": {
        "id": "USHTAJVhmdp8"
      },
      "outputs": [],
      "source": [
        "print(inputs)"
      ]
    },
    {
      "cell_type": "markdown",
      "metadata": {
        "id": "gM5nziE8mdp8"
      },
      "source": [
        "### 3.9 Run flood model"
      ]
    },
    {
      "cell_type": "markdown",
      "metadata": {
        "id": "trNe6kCjmdp8"
      },
      "source": [
        "The simulation speed may vary depends on the GPU type, grid cell numbers, and the complexity of the simulation case. In this demonstration, it may take you around 20 minutes on Google Colab."
      ]
    },
    {
      "cell_type": "code",
      "execution_count": null,
      "metadata": {
        "tags": [],
        "id": "9pTMRW6Tmdp8"
      },
      "outputs": [],
      "source": [
        "flood.run(inputs)"
      ]
    },
    {
      "cell_type": "markdown",
      "metadata": {
        "id": "queGRWMtmdp8"
      },
      "source": [
        "## 4. Visualize outputs"
      ]
    },
    {
      "cell_type": "markdown",
      "metadata": {
        "id": "j12PqFnRmdp8"
      },
      "source": [
        "Show the maximum water depth within the simulated period. Run:"
      ]
    },
    {
      "cell_type": "code",
      "execution_count": null,
      "metadata": {
        "id": "G4IKLGAEmdp8"
      },
      "outputs": [],
      "source": [
        "output_folder = os.path.join(case_folder, 'output')\n",
        "\n",
        "max_depth_path = os.path.join(output_folder, \"h_600.tif\")\n",
        "\n",
        "visual.inundation_depth(file_path = max_depth_path,\n",
        "                        title = 'Max water depth (m)',\n",
        "                        basemap=dem_path,\n",
        "                        outline=outline_path)"
      ]
    },
    {
      "cell_type": "code",
      "execution_count": null,
      "metadata": {
        "id": "_8x5PE-umdp8"
      },
      "outputs": [],
      "source": [
        "from hipims import postProcessing as post\n",
        "output_path = inputs.case_info['output_folder']\n",
        "post.exportRaster_tiff(dem_path, output_path, archive_pt=False)"
      ]
    },
    {
      "cell_type": "markdown",
      "metadata": {
        "id": "ef81Ape1mdp8"
      },
      "source": [
        "## 5. Use outputs for flood risk assessment"
      ]
    },
    {
      "cell_type": "markdown",
      "metadata": {
        "id": "0rxXCcO2mdp8"
      },
      "source": [
        "### (Only for running on Google Colab) Download output data\n",
        "Run code below and the file will be downloaded to you default downloads path."
      ]
    },
    {
      "cell_type": "code",
      "execution_count": null,
      "metadata": {
        "id": "LObGBu97mdp8"
      },
      "outputs": [],
      "source": [
        "from google.colab import files\n",
        "\n",
        "download_file_path = os.path.join(output_folder, 'h_max_43200.tif')\n",
        "files.download(download_file_path)\n",
        "\n",
        "school_path = os.path.join(output_folder, 'school.gz')\n",
        "files.download(school_path)"
      ]
    },
    {
      "cell_type": "markdown",
      "metadata": {
        "id": "MFVJD_Wgmdp9"
      },
      "source": [
        "### Flood risk assessment\n",
        "There are lots of method to assess flood risk using HiPIMS outputs. Here we provide an easy demonstration, but you can use your own methods.\n",
        "\n",
        "Step 1: Choose the key infrastructure. Here schools​ are selected as the critical infrastructure of interest.\n",
        "\n",
        "Step 2: Use QGIS/ArcGIS tool (such as Zonal Statistics) to figure out maximum inundation depth (denoted as H) within school (or buffer) areas​.\n",
        "\n",
        "​Step 3: Calculate economic loss of each school area in terms of the economic loss curve. For example F=11616.4*lgH+4030.7* (lgH)2+969.4 *(lgH)3 +30139.1​\n",
        "\n",
        "​Step 4: Calculate the total expected economic loss of schools​."
      ]
    }
  ],
  "metadata": {
    "kernelspec": {
      "display_name": "hipims_38",
      "language": "python",
      "name": "python3"
    },
    "language_info": {
      "codemirror_mode": {
        "name": "ipython",
        "version": 3
      },
      "file_extension": ".py",
      "mimetype": "text/x-python",
      "name": "python",
      "nbconvert_exporter": "python",
      "pygments_lexer": "ipython3",
      "version": "3.10.16"
    },
    "colab": {
      "provenance": []
    }
  },
  "nbformat": 4,
  "nbformat_minor": 0
}